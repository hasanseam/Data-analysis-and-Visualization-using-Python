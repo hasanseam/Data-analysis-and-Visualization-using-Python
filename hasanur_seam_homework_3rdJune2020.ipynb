{
 "cells": [
  {
   "cell_type": "code",
   "execution_count": 2,
   "metadata": {},
   "outputs": [],
   "source": [
    "import pandas as pd\n",
    "import numpy as np\n",
    "import matplotlib.pyplot as plt\n",
    "%matplotlib inline"
   ]
  },
  {
   "cell_type": "code",
   "execution_count": 3,
   "metadata": {},
   "outputs": [
    {
     "data": {
      "text/html": [
       "<div>\n",
       "<style scoped>\n",
       "    .dataframe tbody tr th:only-of-type {\n",
       "        vertical-align: middle;\n",
       "    }\n",
       "\n",
       "    .dataframe tbody tr th {\n",
       "        vertical-align: top;\n",
       "    }\n",
       "\n",
       "    .dataframe thead th {\n",
       "        text-align: right;\n",
       "    }\n",
       "</style>\n",
       "<table border=\"1\" class=\"dataframe\">\n",
       "  <thead>\n",
       "    <tr style=\"text-align: right;\">\n",
       "      <th></th>\n",
       "      <th>Year</th>\n",
       "      <th>February Average Temperature (Northeast)</th>\n",
       "      <th>February Average Temperature (Midwest)</th>\n",
       "      <th>February Average Temperature (Pennsylvania)</th>\n",
       "      <th>March Average Temperature (Northeast)</th>\n",
       "      <th>March Average Temperature (Midwest)</th>\n",
       "      <th>March Average Temperature (Pennsylvania)</th>\n",
       "      <th>Country</th>\n",
       "      <th>Population</th>\n",
       "      <th>Area (sq. mi.)</th>\n",
       "      <th>Coastline (coast/area ratio)</th>\n",
       "      <th>Infant mortality (per 1000 births)</th>\n",
       "      <th>GDP ($ per capita)</th>\n",
       "      <th>Literacy (%)</th>\n",
       "    </tr>\n",
       "  </thead>\n",
       "  <tbody>\n",
       "    <tr>\n",
       "      <th>0</th>\n",
       "      <td>1895</td>\n",
       "      <td>15.6</td>\n",
       "      <td>21.9</td>\n",
       "      <td>17.0</td>\n",
       "      <td>27.6</td>\n",
       "      <td>40.2</td>\n",
       "      <td>31.3</td>\n",
       "      <td>Afghanistan</td>\n",
       "      <td>31056997</td>\n",
       "      <td>647500</td>\n",
       "      <td>0,00</td>\n",
       "      <td>163,07</td>\n",
       "      <td>700</td>\n",
       "      <td>36,0</td>\n",
       "    </tr>\n",
       "    <tr>\n",
       "      <th>1</th>\n",
       "      <td>1896</td>\n",
       "      <td>22.2</td>\n",
       "      <td>33.5</td>\n",
       "      <td>26.6</td>\n",
       "      <td>25.3</td>\n",
       "      <td>36.9</td>\n",
       "      <td>27.8</td>\n",
       "      <td>Angola</td>\n",
       "      <td>12127071</td>\n",
       "      <td>1246700</td>\n",
       "      <td>0,13</td>\n",
       "      <td>191,19</td>\n",
       "      <td>1900</td>\n",
       "      <td>42,0</td>\n",
       "    </tr>\n",
       "    <tr>\n",
       "      <th>2</th>\n",
       "      <td>1897</td>\n",
       "      <td>23.6</td>\n",
       "      <td>34.7</td>\n",
       "      <td>27.9</td>\n",
       "      <td>32.0</td>\n",
       "      <td>44.0</td>\n",
       "      <td>36.9</td>\n",
       "      <td>Anguilla</td>\n",
       "      <td>13477</td>\n",
       "      <td>102</td>\n",
       "      <td>59,80</td>\n",
       "      <td>21,03</td>\n",
       "      <td>8600</td>\n",
       "      <td>42,1</td>\n",
       "    </tr>\n",
       "    <tr>\n",
       "      <th>3</th>\n",
       "      <td>1898</td>\n",
       "      <td>24.8</td>\n",
       "      <td>33.3</td>\n",
       "      <td>26.7</td>\n",
       "      <td>38.0</td>\n",
       "      <td>46.0</td>\n",
       "      <td>42.0</td>\n",
       "      <td>Antigua &amp; Barbuda</td>\n",
       "      <td>69108</td>\n",
       "      <td>443</td>\n",
       "      <td>34,54</td>\n",
       "      <td>19,46</td>\n",
       "      <td>11000</td>\n",
       "      <td>42,2</td>\n",
       "    </tr>\n",
       "    <tr>\n",
       "      <th>4</th>\n",
       "      <td>1899</td>\n",
       "      <td>18.1</td>\n",
       "      <td>22.2</td>\n",
       "      <td>20.0</td>\n",
       "      <td>29.3</td>\n",
       "      <td>38.4</td>\n",
       "      <td>34.0</td>\n",
       "      <td>Argentina</td>\n",
       "      <td>39921833</td>\n",
       "      <td>2766890</td>\n",
       "      <td>0,18</td>\n",
       "      <td>15,18</td>\n",
       "      <td>11200</td>\n",
       "      <td>42,3</td>\n",
       "    </tr>\n",
       "  </tbody>\n",
       "</table>\n",
       "</div>"
      ],
      "text/plain": [
       "   Year  February Average Temperature (Northeast)  \\\n",
       "0  1895                                      15.6   \n",
       "1  1896                                      22.2   \n",
       "2  1897                                      23.6   \n",
       "3  1898                                      24.8   \n",
       "4  1899                                      18.1   \n",
       "\n",
       "   February Average Temperature (Midwest)  \\\n",
       "0                                    21.9   \n",
       "1                                    33.5   \n",
       "2                                    34.7   \n",
       "3                                    33.3   \n",
       "4                                    22.2   \n",
       "\n",
       "   February Average Temperature (Pennsylvania)  \\\n",
       "0                                         17.0   \n",
       "1                                         26.6   \n",
       "2                                         27.9   \n",
       "3                                         26.7   \n",
       "4                                         20.0   \n",
       "\n",
       "   March Average Temperature (Northeast)  March Average Temperature (Midwest)  \\\n",
       "0                                   27.6                                 40.2   \n",
       "1                                   25.3                                 36.9   \n",
       "2                                   32.0                                 44.0   \n",
       "3                                   38.0                                 46.0   \n",
       "4                                   29.3                                 38.4   \n",
       "\n",
       "   March Average Temperature (Pennsylvania)             Country  Population  \\\n",
       "0                                      31.3        Afghanistan     31056997   \n",
       "1                                      27.8             Angola     12127071   \n",
       "2                                      36.9           Anguilla        13477   \n",
       "3                                      42.0  Antigua & Barbuda        69108   \n",
       "4                                      34.0          Argentina     39921833   \n",
       "\n",
       "   Area (sq. mi.) Coastline (coast/area ratio)  \\\n",
       "0          647500                         0,00   \n",
       "1         1246700                         0,13   \n",
       "2             102                        59,80   \n",
       "3             443                        34,54   \n",
       "4         2766890                         0,18   \n",
       "\n",
       "  Infant mortality (per 1000 births)  GDP ($ per capita) Literacy (%)  \n",
       "0                             163,07                 700         36,0  \n",
       "1                             191,19                1900         42,0  \n",
       "2                              21,03                8600         42,1  \n",
       "3                              19,46               11000         42,2  \n",
       "4                              15,18               11200         42,3  "
      ]
     },
     "execution_count": 3,
     "metadata": {},
     "output_type": "execute_result"
    }
   ],
   "source": [
    "##read the data from file\n",
    "file = \"hasnur_seam_dataset_latest.csv\"\n",
    "df = pd.read_csv(file, nrows=101,skiprows=1)\n",
    "df.head()"
   ]
  },
  {
   "cell_type": "code",
   "execution_count": 5,
   "metadata": {},
   "outputs": [
    {
     "data": {
      "text/plain": [
       "array([15.6, 22.2, 23.6, 24.8, 18.1, 21.4, 16. , 20.1, 24.5, 15. , 15.2,\n",
       "       22. , 18.4, 26.4, 20.6, 18.6, 20.2, 14.5, 26.7, 18.9, 17.8, 19.8,\n",
       "       25.4, 19.6, 25.1, 24.2, 16.2, 18.3, 29.2, 20.5, 26.2, 22.6, 21.7,\n",
       "       26.1, 25.7, 25.8, 10.4, 21.1, 26.3, 26. , 24.9, 22.3, 23.9, 22.4,\n",
       "       19.7, 28. , 21.6, 30. , 25.6, 27.3, 17.9, 26.9, 24.6, 22.1, 23.2,\n",
       "       18.2, 23.7, 22.5, 21.8, 24.7, 28.8, 13.9, 20. , 30.3, 22.9, 31.2,\n",
       "       23. , 28.7, 17.5, 19.4])"
      ]
     },
     "execution_count": 5,
     "metadata": {},
     "output_type": "execute_result"
    }
   ],
   "source": [
    "##df.info()\n",
    "df['February Average Temperature (Northeast)'].unique()"
   ]
  },
  {
   "cell_type": "code",
   "execution_count": 4,
   "metadata": {},
   "outputs": [
    {
     "name": "stdout",
     "output_type": "stream",
     "text": [
      "Average Temperature in February of Pensylvania from 1885-1995:  22.184158415841583\n"
     ]
    }
   ],
   "source": [
    "FAT_Pensylvania_mean = df['February Average Temperature (Northeast)'].mean()\n",
    "print(\"Average Temperature in February of Pensylvania from 1885-1995: \",FAT_Pensylvania_mean)"
   ]
  },
  {
   "cell_type": "code",
   "execution_count": 5,
   "metadata": {},
   "outputs": [
    {
     "name": "stdout",
     "output_type": "stream",
     "text": [
      "Middle value Temperature in February of Pensylvania from 1885-1995:  22.2\n"
     ]
    }
   ],
   "source": [
    "FAT_Pensylvania_median = df['February Average Temperature (Northeast)'].median()\n",
    "print(\"Middle value Temperature in February of Pensylvania from 1885-1995: \",FAT_Pensylvania_median)"
   ]
  },
  {
   "cell_type": "code",
   "execution_count": 6,
   "metadata": {},
   "outputs": [
    {
     "name": "stdout",
     "output_type": "stream",
     "text": [
      "0    15.6\n",
      "1    20.1\n",
      "2    20.6\n",
      "3    21.4\n",
      "4    24.2\n",
      "5    28.0\n",
      "dtype: float64\n"
     ]
    }
   ],
   "source": [
    "FAT_Pensylvania_mode = df['February Average Temperature (Northeast)'].mode()\n",
    "print(FAT_Pensylvania_mode)"
   ]
  },
  {
   "cell_type": "code",
   "execution_count": 7,
   "metadata": {},
   "outputs": [
    {
     "name": "stdout",
     "output_type": "stream",
     "text": [
      "0      15.6\n",
      "1      22.2\n",
      "2      23.6\n",
      "3      24.8\n",
      "4      18.1\n",
      "       ... \n",
      "96     28.7\n",
      "97     25.7\n",
      "98     17.5\n",
      "99     19.4\n",
      "100    20.6\n",
      "Name: February Average Temperature (Northeast), Length: 101, dtype: float64\n"
     ]
    }
   ],
   "source": [
    "#Temparature values without applying the rolling mean\n",
    "print(df[\"February Average Temperature (Northeast)\"])"
   ]
  },
  {
   "cell_type": "code",
   "execution_count": 8,
   "metadata": {},
   "outputs": [
    {
     "name": "stdout",
     "output_type": "stream",
     "text": [
      "0        NaN\n",
      "1      18.90\n",
      "2      22.90\n",
      "3      24.20\n",
      "4      21.45\n",
      "       ...  \n",
      "96     28.35\n",
      "97     27.20\n",
      "98     21.60\n",
      "99     18.45\n",
      "100    20.00\n",
      "Name: February Average Temperature (Northeast), Length: 101, dtype: float64\n"
     ]
    }
   ],
   "source": [
    "# Applying the rolling mean using 2 data point as calculation window\n",
    "FAT_Pensylvania_rmean = df['February Average Temperature (Northeast)'].rolling(window=2).mean()\n",
    "print(FAT_Pensylvania_rmean)"
   ]
  },
  {
   "cell_type": "code",
   "execution_count": 9,
   "metadata": {},
   "outputs": [
    {
     "name": "stdout",
     "output_type": "stream",
     "text": [
      "4.062427033270504\n"
     ]
    }
   ],
   "source": [
    "std_FAT_Pensylvania = np.std(df[\"February Average Temperature (Northeast)\"])\n",
    "print(std_FAT_Pensylvania)"
   ]
  },
  {
   "cell_type": "code",
   "execution_count": 10,
   "metadata": {},
   "outputs": [
    {
     "data": {
      "text/plain": [
       "10.4"
      ]
     },
     "execution_count": 10,
     "metadata": {},
     "output_type": "execute_result"
    }
   ],
   "source": [
    "##min returns the smallest item\n",
    "min(df[\"February Average Temperature (Northeast)\"])"
   ]
  },
  {
   "cell_type": "code",
   "execution_count": 11,
   "metadata": {},
   "outputs": [
    {
     "data": {
      "text/plain": [
       "31.2"
      ]
     },
     "execution_count": 11,
     "metadata": {},
     "output_type": "execute_result"
    }
   ],
   "source": [
    "##max returns the smallest item\n",
    "max(df[\"February Average Temperature (Northeast)\"])"
   ]
  },
  {
   "cell_type": "code",
   "execution_count": 12,
   "metadata": {},
   "outputs": [
    {
     "data": {
      "text/html": [
       "<div>\n",
       "<style scoped>\n",
       "    .dataframe tbody tr th:only-of-type {\n",
       "        vertical-align: middle;\n",
       "    }\n",
       "\n",
       "    .dataframe tbody tr th {\n",
       "        vertical-align: top;\n",
       "    }\n",
       "\n",
       "    .dataframe thead th {\n",
       "        text-align: right;\n",
       "    }\n",
       "</style>\n",
       "<table border=\"1\" class=\"dataframe\">\n",
       "  <thead>\n",
       "    <tr style=\"text-align: right;\">\n",
       "      <th></th>\n",
       "      <th>Year</th>\n",
       "      <th>February Average Temperature (Northeast)</th>\n",
       "      <th>February Average Temperature (Midwest)</th>\n",
       "      <th>February Average Temperature (Pennsylvania)</th>\n",
       "      <th>March Average Temperature (Northeast)</th>\n",
       "      <th>March Average Temperature (Midwest)</th>\n",
       "      <th>March Average Temperature (Pennsylvania)</th>\n",
       "      <th>Population</th>\n",
       "      <th>Area (sq. mi.)</th>\n",
       "      <th>GDP ($ per capita)</th>\n",
       "    </tr>\n",
       "  </thead>\n",
       "  <tbody>\n",
       "    <tr>\n",
       "      <th>count</th>\n",
       "      <td>101.000000</td>\n",
       "      <td>101.000000</td>\n",
       "      <td>101.000000</td>\n",
       "      <td>101.000000</td>\n",
       "      <td>101.000000</td>\n",
       "      <td>101.000000</td>\n",
       "      <td>101.000000</td>\n",
       "      <td>1.010000e+02</td>\n",
       "      <td>1.010000e+02</td>\n",
       "      <td>101.000000</td>\n",
       "    </tr>\n",
       "    <tr>\n",
       "      <th>mean</th>\n",
       "      <td>1945.000000</td>\n",
       "      <td>22.184158</td>\n",
       "      <td>32.405941</td>\n",
       "      <td>26.112871</td>\n",
       "      <td>32.096040</td>\n",
       "      <td>42.311881</td>\n",
       "      <td>35.653465</td>\n",
       "      <td>4.174458e+07</td>\n",
       "      <td>6.888487e+05</td>\n",
       "      <td>10688.118812</td>\n",
       "    </tr>\n",
       "    <tr>\n",
       "      <th>std</th>\n",
       "      <td>29.300171</td>\n",
       "      <td>4.082689</td>\n",
       "      <td>4.844560</td>\n",
       "      <td>4.378188</td>\n",
       "      <td>3.797128</td>\n",
       "      <td>4.451703</td>\n",
       "      <td>4.147639</td>\n",
       "      <td>1.710998e+08</td>\n",
       "      <td>1.813135e+06</td>\n",
       "      <td>10390.469548</td>\n",
       "    </tr>\n",
       "    <tr>\n",
       "      <th>min</th>\n",
       "      <td>1895.000000</td>\n",
       "      <td>10.400000</td>\n",
       "      <td>20.300000</td>\n",
       "      <td>15.200000</td>\n",
       "      <td>24.200000</td>\n",
       "      <td>28.500000</td>\n",
       "      <td>24.500000</td>\n",
       "      <td>1.347700e+04</td>\n",
       "      <td>7.000000e+00</td>\n",
       "      <td>500.000000</td>\n",
       "    </tr>\n",
       "    <tr>\n",
       "      <th>25%</th>\n",
       "      <td>1920.000000</td>\n",
       "      <td>19.800000</td>\n",
       "      <td>29.400000</td>\n",
       "      <td>23.200000</td>\n",
       "      <td>29.600000</td>\n",
       "      <td>38.900000</td>\n",
       "      <td>32.800000</td>\n",
       "      <td>6.909480e+05</td>\n",
       "      <td>1.099100e+04</td>\n",
       "      <td>1900.000000</td>\n",
       "    </tr>\n",
       "    <tr>\n",
       "      <th>50%</th>\n",
       "      <td>1945.000000</td>\n",
       "      <td>22.200000</td>\n",
       "      <td>32.600000</td>\n",
       "      <td>26.700000</td>\n",
       "      <td>32.000000</td>\n",
       "      <td>42.600000</td>\n",
       "      <td>35.100000</td>\n",
       "      <td>5.231372e+06</td>\n",
       "      <td>9.100000e+04</td>\n",
       "      <td>6000.000000</td>\n",
       "    </tr>\n",
       "    <tr>\n",
       "      <th>75%</th>\n",
       "      <td>1970.000000</td>\n",
       "      <td>25.100000</td>\n",
       "      <td>36.100000</td>\n",
       "      <td>28.900000</td>\n",
       "      <td>34.800000</td>\n",
       "      <td>45.100000</td>\n",
       "      <td>38.400000</td>\n",
       "      <td>1.523324e+07</td>\n",
       "      <td>3.570210e+05</td>\n",
       "      <td>19000.000000</td>\n",
       "    </tr>\n",
       "    <tr>\n",
       "      <th>max</th>\n",
       "      <td>1995.000000</td>\n",
       "      <td>31.200000</td>\n",
       "      <td>41.400000</td>\n",
       "      <td>33.900000</td>\n",
       "      <td>41.600000</td>\n",
       "      <td>52.400000</td>\n",
       "      <td>46.200000</td>\n",
       "      <td>1.313974e+09</td>\n",
       "      <td>9.984670e+06</td>\n",
       "      <td>36000.000000</td>\n",
       "    </tr>\n",
       "  </tbody>\n",
       "</table>\n",
       "</div>"
      ],
      "text/plain": [
       "              Year  February Average Temperature (Northeast)  \\\n",
       "count   101.000000                                101.000000   \n",
       "mean   1945.000000                                 22.184158   \n",
       "std      29.300171                                  4.082689   \n",
       "min    1895.000000                                 10.400000   \n",
       "25%    1920.000000                                 19.800000   \n",
       "50%    1945.000000                                 22.200000   \n",
       "75%    1970.000000                                 25.100000   \n",
       "max    1995.000000                                 31.200000   \n",
       "\n",
       "       February Average Temperature (Midwest)  \\\n",
       "count                              101.000000   \n",
       "mean                                32.405941   \n",
       "std                                  4.844560   \n",
       "min                                 20.300000   \n",
       "25%                                 29.400000   \n",
       "50%                                 32.600000   \n",
       "75%                                 36.100000   \n",
       "max                                 41.400000   \n",
       "\n",
       "       February Average Temperature (Pennsylvania)  \\\n",
       "count                                   101.000000   \n",
       "mean                                     26.112871   \n",
       "std                                       4.378188   \n",
       "min                                      15.200000   \n",
       "25%                                      23.200000   \n",
       "50%                                      26.700000   \n",
       "75%                                      28.900000   \n",
       "max                                      33.900000   \n",
       "\n",
       "       March Average Temperature (Northeast)  \\\n",
       "count                             101.000000   \n",
       "mean                               32.096040   \n",
       "std                                 3.797128   \n",
       "min                                24.200000   \n",
       "25%                                29.600000   \n",
       "50%                                32.000000   \n",
       "75%                                34.800000   \n",
       "max                                41.600000   \n",
       "\n",
       "       March Average Temperature (Midwest)  \\\n",
       "count                           101.000000   \n",
       "mean                             42.311881   \n",
       "std                               4.451703   \n",
       "min                              28.500000   \n",
       "25%                              38.900000   \n",
       "50%                              42.600000   \n",
       "75%                              45.100000   \n",
       "max                              52.400000   \n",
       "\n",
       "       March Average Temperature (Pennsylvania)    Population  Area (sq. mi.)  \\\n",
       "count                                101.000000  1.010000e+02    1.010000e+02   \n",
       "mean                                  35.653465  4.174458e+07    6.888487e+05   \n",
       "std                                    4.147639  1.710998e+08    1.813135e+06   \n",
       "min                                   24.500000  1.347700e+04    7.000000e+00   \n",
       "25%                                   32.800000  6.909480e+05    1.099100e+04   \n",
       "50%                                   35.100000  5.231372e+06    9.100000e+04   \n",
       "75%                                   38.400000  1.523324e+07    3.570210e+05   \n",
       "max                                   46.200000  1.313974e+09    9.984670e+06   \n",
       "\n",
       "       GDP ($ per capita)  \n",
       "count          101.000000  \n",
       "mean         10688.118812  \n",
       "std          10390.469548  \n",
       "min            500.000000  \n",
       "25%           1900.000000  \n",
       "50%           6000.000000  \n",
       "75%          19000.000000  \n",
       "max          36000.000000  "
      ]
     },
     "execution_count": 12,
     "metadata": {},
     "output_type": "execute_result"
    }
   ],
   "source": [
    "##to get the statistics of data set in gerneral.\n",
    "df.describe()"
   ]
  },
  {
   "cell_type": "code",
   "execution_count": 13,
   "metadata": {},
   "outputs": [
    {
     "data": {
      "text/plain": [
       "2240.5999999999995"
      ]
     },
     "execution_count": 13,
     "metadata": {},
     "output_type": "execute_result"
    }
   ],
   "source": [
    "# When having 'NaN's in your data array, nansum() is the better choice\n",
    "np.nansum(df[\"February Average Temperature (Northeast)\"])"
   ]
  },
  {
   "cell_type": "code",
   "execution_count": 14,
   "metadata": {},
   "outputs": [
    {
     "name": "stdout",
     "output_type": "stream",
     "text": [
      "     February Average Temperature (Northeast)  \\\n",
      "0                                        15.6   \n",
      "1                                        22.2   \n",
      "2                                        23.6   \n",
      "3                                        24.8   \n",
      "4                                        18.1   \n",
      "..                                        ...   \n",
      "96                                       28.7   \n",
      "97                                       25.7   \n",
      "98                                       17.5   \n",
      "99                                       19.4   \n",
      "100                                      20.6   \n",
      "\n",
      "     March Average Temperature (Northeast)  \n",
      "0                                     43.2  \n",
      "1                                     47.5  \n",
      "2                                     55.6  \n",
      "3                                     62.8  \n",
      "4                                     47.4  \n",
      "..                                     ...  \n",
      "96                                    64.8  \n",
      "97                                    55.7  \n",
      "98                                    47.3  \n",
      "99                                    51.0  \n",
      "100                                   56.8  \n",
      "\n",
      "[101 rows x 2 columns]\n"
     ]
    }
   ],
   "source": [
    "cumsumNortheast = df[[\"February Average Temperature (Northeast)\", \"March Average Temperature (Northeast)\"]]\n",
    "\n",
    "cumsum_all = np.cumsum(cumsumNortheast, axis = 1)\n",
    "print(cumsum_all)"
   ]
  },
  {
   "cell_type": "code",
   "execution_count": 15,
   "metadata": {},
   "outputs": [
    {
     "name": "stdout",
     "output_type": "stream",
     "text": [
      "0      15.6\n",
      "1      22.2\n",
      "2      23.6\n",
      "3      24.8\n",
      "4      18.1\n",
      "       ... \n",
      "96     28.7\n",
      "97     25.7\n",
      "98     17.5\n",
      "99     19.4\n",
      "100    20.6\n",
      "Name: February Average Temperature (Northeast), Length: 101, dtype: float64\n"
     ]
    },
    {
     "data": {
      "text/plain": [
       "26"
      ]
     },
     "execution_count": 15,
     "metadata": {},
     "output_type": "execute_result"
    }
   ],
   "source": [
    "# We want to know how many times such a value occurs we can use the len() function:\n",
    "\n",
    "accu_300 = df[\"February Average Temperature (Northeast)\"]\n",
    "print(accu_300)\n",
    "threshold = accu_300 > 25\n",
    "\n",
    "len(accu_300[threshold])"
   ]
  },
  {
   "cell_type": "code",
   "execution_count": 16,
   "metadata": {},
   "outputs": [
    {
     "data": {
      "text/plain": [
       "16.503313400646995"
      ]
     },
     "execution_count": 16,
     "metadata": {},
     "output_type": "execute_result"
    }
   ],
   "source": [
    "np.nanvar(df[\"February Average Temperature (Northeast)\"])"
   ]
  },
  {
   "cell_type": "code",
   "execution_count": 17,
   "metadata": {},
   "outputs": [
    {
     "name": "stdout",
     "output_type": "stream",
     "text": [
      "-0.05555555555555566\n"
     ]
    },
    {
     "data": {
      "image/png": "[encoded data removed]",
      "text/plain": [
       "<Figure size 432x288 with 1 Axes>"
      ]
     },
     "metadata": {
      "needs_background": "light"
     },
     "output_type": "display_data"
    }
   ],
   "source": [
    "# To test the diffrences of covariance and get a better understanding of the output value, simply run the examples\n",
    "cov1 = [1,2,3,4,5,6,7,8,9,10]\n",
    "cov2 = [10,9,8,7,6,5,4,3,2,1]\n",
    "cov3 = [6,3,2,6,7,4,7,9,3,2,]\n",
    "\n",
    "#Negative correlation\n",
    "covariance1 = np.ma.cov(cov1, cov3)[1,0]\n",
    "print(covariance1)\n",
    "plt.plot(cov1, cov3)\n",
    "plt.show()"
   ]
  },
  {
   "cell_type": "code",
   "execution_count": 18,
   "metadata": {},
   "outputs": [
    {
     "name": "stdout",
     "output_type": "stream",
     "text": [
      "      February Average Temperature (Northeast)\n",
      "Year                                          \n",
      "1895                                      15.6\n",
      "1896                                      22.2\n",
      "1897                                      23.6\n",
      "1898                                      24.8\n",
      "1899                                      18.1\n",
      "...                                        ...\n",
      "1991                                      28.7\n",
      "1992                                      25.7\n",
      "1993                                      17.5\n",
      "1994                                      19.4\n",
      "1995                                      20.6\n",
      "\n",
      "[101 rows x 1 columns]\n"
     ]
    }
   ],
   "source": [
    "pivot1 = df.pivot_table(values = \"February Average Temperature (Northeast)\", index= \"Year\")\n",
    "print(pivot1)"
   ]
  },
  {
   "cell_type": "code",
   "execution_count": 19,
   "metadata": {},
   "outputs": [
    {
     "data": {
      "image/png": "[encoded data removed]",
      "text/plain": [
       "<Figure size 432x288 with 1 Axes>"
      ]
     },
     "metadata": {
      "needs_background": "light"
     },
     "output_type": "display_data"
    }
   ],
   "source": [
    "#Check different numbers of bins and see how the histogramm changes.\n",
    "\n",
    "frequency = df[\"February Average Temperature (Northeast)\"]\n",
    "num_bins = 101\n",
    "\n",
    "plt.hist(frequency, num_bins)\n",
    "\n",
    "plt.show()"
   ]
  },
  {
   "cell_type": "code",
   "execution_count": 20,
   "metadata": {},
   "outputs": [
    {
     "data": {
      "image/png": "[encoded data removed]",
      "text/plain": [
       "<Figure size 432x288 with 1 Axes>"
      ]
     },
     "metadata": {
      "needs_background": "light"
     },
     "output_type": "display_data"
    }
   ],
   "source": [
    "# Define the objects\n",
    "FatN = df[\"Country\"].tail()  \n",
    "year = df[\"Population\"].tail()  \n",
    "\n",
    "plt.bar(FatN, year)\n",
    "\n",
    "# Easily change the labels\n",
    "plt.xlabel('FAT N')  \n",
    "plt.ylabel('year')\n",
    "\n",
    "plt.show()  "
   ]
  },
  {
   "cell_type": "code",
   "execution_count": 21,
   "metadata": {},
   "outputs": [
    {
     "data": {
      "image/png": "[encoded data removed]",
      "text/plain": [
       "<Figure size 432x288 with 1 Axes>"
      ]
     },
     "metadata": {
      "needs_background": "light"
     },
     "output_type": "display_data"
    }
   ],
   "source": [
    "#To avoid problems with 'NaN's we filter our data for missing values\n",
    "value1=df[\"February Average Temperature (Northeast)\"]  \n",
    "accu1 = value1[~np.isnan(value1)]\n",
    "\n",
    "value2 = df[\"February Average Temperature (Midwest)\"]\n",
    "accu2 = value2[~np.isnan(value2)]\n",
    "\n",
    "value3=df[\"February Average Temperature (Pennsylvania)\"]  \n",
    "accu3 = value3[~np.isnan(value3)]\n",
    "\n",
    "\n",
    " \n",
    "box_plot_data=[accu1,accu2,accu3]\n",
    "plt.boxplot(box_plot_data)\n",
    "\n",
    "plt.show()"
   ]
  },
  {
   "cell_type": "code",
   "execution_count": 22,
   "metadata": {},
   "outputs": [
    {
     "data": {
      "image/png": "[encoded data removed]",
      "text/plain": [
       "<Figure size 432x288 with 1 Axes>"
      ]
     },
     "metadata": {
      "needs_background": "light"
     },
     "output_type": "display_data"
    }
   ],
   "source": [
    "Year = df[\"Year\"]   \n",
    "FATN = df[\"February Average Temperature (Northeast)\"] \n",
    "FATP = df[\"February Average Temperature (Pennsylvania)\"] \n",
    "\n",
    "plt.title('Compare the temparature value of 2 state')\n",
    "plt.plot(Year, FATN, color= \"green\", linewidth=4, alpha = 0.7, label='February Average Temperature (Northeast)')\n",
    "plt.plot(Year, FATP, color= \"blue\", linewidth=1, label='February Average Temperature (Pennsylvania)')\n",
    "\n",
    "plt.xlabel('Year')  \n",
    "plt.ylabel('Temperature')\n",
    "\n",
    "#To display the legend we defined the labels for, we simply add `plt.legend()`\n",
    "plt.legend()\n",
    "plt.savefig('compare.png', dpi=300, bbox_inches='tight')\n",
    "plt.show() "
   ]
  },
  {
   "cell_type": "code",
   "execution_count": 23,
   "metadata": {},
   "outputs": [
    {
     "data": {
      "image/png": "[encoded data removed]",
      "text/plain": [
       "<Figure size 432x288 with 1 Axes>"
      ]
     },
     "metadata": {
      "needs_background": "light"
     },
     "output_type": "display_data"
    }
   ],
   "source": [
    "year = df[\"Year\"]  \n",
    "FATN = df[\"February Average Temperature (Northeast)\"]  \n",
    "\n",
    "fig1 = plt.scatter(year,FATN)\n",
    "\n",
    "plt.title('Relationship Year/ February Average Temperature (Northeast)')\n",
    "plt.xlabel('height_change_cm')\n",
    "plt.ylabel('accumulation_kg/m²*a')\n",
    "\n",
    "#To save a figure, simply use the function `plt.savefig()` and insert the path and file name you want to save it\n",
    "plt.savefig('test.png', dpi=300, bbox_inches='tight')\n",
    "plt.show()"
   ]
  },
  {
   "cell_type": "code",
   "execution_count": null,
   "metadata": {},
   "outputs": [],
   "source": []
  }
 ],
 "metadata": {
  "kernelspec": {
   "display_name": "Python 3",
   "language": "python",
   "name": "python3"
  },
  "language_info": {
   "codemirror_mode": {
    "name": "ipython",
    "version": 3
   },
   "file_extension": ".py",
   "mimetype": "text/x-python",
   "name": "python",
   "nbconvert_exporter": "python",
   "pygments_lexer": "ipython3",
   "version": "3.7.6"
  }
 },
 "nbformat": 4,
 "nbformat_minor": 4
}
