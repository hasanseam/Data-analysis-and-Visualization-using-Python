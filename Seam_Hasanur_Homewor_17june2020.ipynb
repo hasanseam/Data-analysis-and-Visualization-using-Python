{
 "cells": [
  {
   "cell_type": "code",
   "execution_count": null,
   "metadata": {},
   "outputs": [],
   "source": [
    "import pandas as pd\n",
    "import numpy as np\n",
    "import matplotlib.pyplot as plt\n",
    "import seaborn as sns\n",
    "%matplotlib inline\n"
   ]
  },
  {
   "cell_type": "code",
   "execution_count": null,
   "metadata": {},
   "outputs": [],
   "source": [
    "file = \"hasnur_seam_dataset_latest.csv\"\n",
    "df = pd.read_csv(file, nrows=101,skiprows=1)\n",
    "df = df.drop(df.columns[7:], axis=1)\n",
    "df.Year = pd.to_datetime(df.Year, format='%Y')\n",
    "df.head()"
   ]
  },
  {
   "cell_type": "code",
   "execution_count": null,
   "metadata": {},
   "outputs": [],
   "source": [
    "df.info()"
   ]
  },
  {
   "cell_type": "code",
   "execution_count": null,
   "metadata": {},
   "outputs": [],
   "source": [
    "sns.set(rc={'figure.figsize':(16, 4)})"
   ]
  },
  {
   "cell_type": "code",
   "execution_count": null,
   "metadata": {},
   "outputs": [],
   "source": [
    "#As we have prepared our data set, we can start right away with assigning the variables\n",
    "#The x-axis is always (exception confirms the rule) used to display the time passed.\n",
    "x= df['Year']\n",
    "y= df['February Average Temperature (Northeast)']\n",
    "plt.plot(x,y)\n",
    "\n",
    "#Change x/y-label\n",
    "plt.xlabel('Time')\n",
    "plt.ylabel('Temperature')\n",
    "\n",
    "#Change title\n",
    "plt.title('February Average Temperature (Northeast)', fontsize=(15))"
   ]
  },
  {
   "cell_type": "code",
   "execution_count": null,
   "metadata": {},
   "outputs": [],
   "source": [
    "#Assign variables\n",
    "x= df['Year']\n",
    "y= df['February Average Temperature (Midwest)']\n",
    "\n",
    "#Apply moving average\n",
    "moving_avg = y.rolling(10).mean()\n",
    "\n",
    "#For every line you want to display, a single plot command is necessary\n",
    "plt.plot(x, y)\n",
    "plt.plot(x, moving_avg, color = 'red')\n",
    "\n",
    "#Change labels and title\n",
    "plt.xlabel('Time')\n",
    "plt.ylabel('Temperature')\n",
    "plt.title('February Average Temperature (Midwest)', fontsize=(15))"
   ]
  },
  {
   "cell_type": "code",
   "execution_count": null,
   "metadata": {},
   "outputs": [],
   "source": [
    "#Here we use the \n",
    "fig, ax = plt.subplots()\n",
    "\n",
    "x= df['Year']\n",
    "y1= df['February Average Temperature (Northeast)']\n",
    "y2=df['February Average Temperature (Midwest)']\n",
    "y3= df['February Average Temperature (Pennsylvania)']\n",
    "#y4=df['February Average Temperature (Midwest)']\n",
    "\n",
    "#As we have defined only one axis (ax) everything is plotted on this axis. \n",
    "ax.plot(x, y1, marker='.', linestyle='-', linewidth=0.5, label='February Average Temperature (Northeast)')\n",
    "\n",
    "ax.plot(x, y2, marker='o', markersize=4, linestyle='-', label='February Average Temperature (Midwest)')\n",
    "\n",
    "ax.plot(x, y3, marker='v', linestyle='-', linewidth=0.5, label='February Average Temperature (Pennsylvania)')\n",
    "\n",
    "#ax.plot(x, y2, marker='o', markersize=4, linestyle='-', label='February Average Temperature (Midwest)')\n",
    "\n",
    "#In the end we give the command to plot, the way we set our conditions.\n",
    "ax.plot()\n",
    "\n",
    "#We insert a legend \n",
    "ax.legend()\n",
    "\n",
    "#Labels and title\n",
    "plt.xlabel('Time')\n",
    "plt.ylabel('Temperature')\n",
    "plt.title('February Average temperature in different state', fontsize=(15))"
   ]
  },
  {
   "cell_type": "code",
   "execution_count": null,
   "metadata": {},
   "outputs": [],
   "source": [
    "# # Now we want to display the differences in accumulation using the accumulation records and applying the rolling mean\n",
    "# sns.set(rc={'figure.figsize':(16, 10)})\n",
    "# x = df['Year']\n",
    "# y1= df['February Average Temperature (Northeast)']\n",
    "# y2=df['February Average Temperature (Midwest)']\n",
    "# y3= df['February Average Temperature (Pennsylvania)']\n",
    "# moving_average1= y1.rolling(10).mean()\n",
    "# moving_average2= y2.rolling(10).mean()\n",
    "# moving_average3= y3.rolling(10).mean()\n",
    "\n",
    "# #Definition of the subplots\n",
    "# fig, ax = plt.subplots()\n",
    "\n",
    "# #Accumulation at Polar station\n",
    "# ax.plot(x, y1, marker='.', markersize=6, color='royalblue',linestyle='None', label='Accumulation at Polar Station')\n",
    "# ax.plot(x, moving_average1, linewidth=1.5, color='lightblue', label='Moving average of Accumulation at Camp')\n",
    "\n",
    "# #Accumulation at Camp\n",
    "# ax.plot(x, y2, marker='*', markersize=6, color='green', linestyle='None', label='Accumulation at Camp')\n",
    "# ax.plot(x, moving_average2, linewidth=1.5, color='yellowgreen', label='Moving average of Accumulation at Camp')\n",
    "\n",
    "# #Accumulation at Camp\n",
    "# ax.plot(x, y3, marker='v', markersize=6, color='red', linestyle='None', label='Accumulation at Camp')\n",
    "# ax.plot(x, moving_average3, linewidth=1.5, color='red', label='Moving average of Accumulation at Camp')\n",
    "\n",
    "# #Set legend, labels and title\n",
    "# ax.legend()\n",
    "# ax.set_xlabel('Time')\n",
    "# ax.set_ylabel('Accumulation [kg/m^2*a]')\n",
    "# ax.set_title('Accumulation seaside vs. inland', fontsize=(15))"
   ]
  },
  {
   "cell_type": "code",
   "execution_count": null,
   "metadata": {},
   "outputs": [],
   "source": [
    "#Assigning the variables\n",
    "x= df['Year']\n",
    "y1=df['March Average Temperature (Northeast)']\n",
    "y2=df['March Average Temperature (Midwest)']\n",
    "y3=df['March Average Temperature (Pennsylvania)']\n",
    "\n",
    "#Now we use 3 axes (ax, ax1, ax2) and we define the settings for the axes block by block\n",
    "fig, (ax, ax1, ax2) = plt.subplots(3, 1, sharex=True, figsize=(16,8))\n",
    "\n",
    "#Change color, linestyle, linewidth, markerstyle and transparency (alpha)\n",
    "ax.plot(x, y1, color='mediumaquamarine', marker='.', alpha=1, linestyle='-')\n",
    "#Change title and fontsize\n",
    "ax.set_title('March Average Temperature (Northeast)', fontsize=(12))\n",
    "ax.set_ylabel('Temperature')\n",
    "\n",
    "#Second plot\n",
    "ax1.plot(x, y2, color='steelblue', marker='x', alpha=1, linestyle='-')\n",
    "ax1.set_title('March Average Temperature (Midwest)', fontsize=(12))\n",
    "ax1.set_ylabel('Temperature')\n",
    "\n",
    "#Third plot\n",
    "ax2.plot(x, y3, color='palevioletred', marker='o', alpha=1, linestyle='-')\n",
    "ax2.set_title('March Average Temperature (Pennsylvania)', fontsize=(12))\n",
    "ax2.set_ylabel('Temperature')"
   ]
  },
  {
   "cell_type": "code",
   "execution_count": null,
   "metadata": {},
   "outputs": [],
   "source": []
  }
 ],
 "metadata": {
  "kernelspec": {
   "display_name": "Python 3",
   "language": "python",
   "name": "python3"
  },
  "language_info": {
   "codemirror_mode": {
    "name": "ipython",
    "version": 3
   },
   "file_extension": ".py",
   "mimetype": "text/x-python",
   "name": "python",
   "nbconvert_exporter": "python",
   "pygments_lexer": "ipython3",
   "version": "3.7.6"
  }
 },
 "nbformat": 4,
 "nbformat_minor": 4
}
